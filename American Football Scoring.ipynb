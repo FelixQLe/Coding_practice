{
 "cells": [
  {
   "cell_type": "markdown",
   "id": "1999b89c",
   "metadata": {},
   "source": [
    "There are a few ways we can score in American Football:\n",
    "\n",
    "- 1 point - After scoring a touchdown, the team can choose to score a field goal\n",
    "- 2 points - (1) after scoring touchdown, a team can choose to score a conversion, when the team attempts to score a secondary touchdown or (2) an uncommon way to score, a safety is score when the opposing team causes the ball to become dead\n",
    "- 3 points - If no touchdown is scored on the possession, a team can attempt to make a field goal\n",
    "- 6 points - Awarded for a touchdown\n",
    "\n",
    "Given the above the potential point values for American Football are:\n",
    "- 2 points - safety\n",
    "- 3 points - only field goal\n",
    "- 6 points - only touchdown\n",
    "- 7 points - touchdown + field goal\n",
    "- 8 points - touchdown + conversion\n",
    "\n",
    "Given a score value, write a function that lists the possible ways the score could achieve\n",
    "\n",
    "For example, given the value 10, the potential values are:\n",
    "\n",
    "- 8 points (touchdown + conversion) + 2 points (safety)\n",
    "- 6 points (only touchdown) + 2x2 points (safety)\n",
    "- 7 points (touchdown + field goal) + 3 points (only field goal)\n",
    "- 5x2 points (safety)\n",
    "- 2x2 points (safety) + 2x3 points (only field goal)"
   ]
  },
  {
   "cell_type": "code",
   "execution_count": 1,
   "id": "2f793543",
   "metadata": {},
   "outputs": [],
   "source": [
    "#potential values\n",
    "potential_values = [2,3,6,7,8]"
   ]
  },
  {
   "cell_type": "code",
   "execution_count": 2,
   "id": "54f9afe9",
   "metadata": {},
   "outputs": [],
   "source": [
    "#solution 1\n",
    "import copy\n",
    "def PossibleScores_S1(score):\n",
    "    # iterate from score 0 to our input score\n",
    "    # for instance, our input score 5 is derive from score 2 and score 3\n",
    "    # score 5 = {3:1, 2:1}, which derive from score 2 = {2:1} append score 3 = {3:1}\n",
    "    #our input score 4 = {2:2}, which derive from score 2 = {2:1}, value 1 + 1 = {2:2}\n",
    "    #and so on\n",
    "    #initalizing dict type table with score 0 points\n",
    "    table = {0: [{}] }\n",
    "    for i in range (1, score + 1):\n",
    "            table[i] = []\n",
    "            for value in potential_values:\n",
    "                if i - value < 0 or i - value not in table:\n",
    "                    # if we can't fit it we skip the value\n",
    "                    continue\n",
    "                for score_arrange in table[i - value]:\n",
    "                    #print(score_arrange)\n",
    "                    # for each score arrangement in the previous total, we're append it to this value\n",
    "                    new_score_arrange = copy.copy(score_arrange)\n",
    "                    new_score_arrange[value] = new_score_arrange.get(value, 0) + 1\n",
    "                   \n",
    "                    if new_score_arrange not in table[i]:\n",
    "                        #if we haven't already seen this arrangement, we're going to add it\n",
    "                        table[i].append(new_score_arrange)\n",
    "    #print(\"Abc\", table)\n",
    "    return table[score]"
   ]
  },
  {
   "cell_type": "code",
   "execution_count": 3,
   "id": "a8032542",
   "metadata": {},
   "outputs": [
    {
     "name": "stdout",
     "output_type": "stream",
     "text": [
      "[{2: 5}, {3: 2, 2: 2}, {6: 1, 2: 2}, {8: 1, 2: 1}, {7: 1, 3: 1}]\n",
      "Length outcome 5\n"
     ]
    }
   ],
   "source": [
    "print(PossibleScores_S1(10))\n",
    "print(\"Length outcome\", len(PossibleScores_S1(10)))"
   ]
  },
  {
   "cell_type": "code",
   "execution_count": 4,
   "id": "d83c69a5",
   "metadata": {},
   "outputs": [
    {
     "name": "stdout",
     "output_type": "stream",
     "text": [
      "[{2: 10}, {3: 2, 2: 7}, {6: 1, 2: 7}, {8: 1, 2: 6}, {7: 1, 3: 1, 2: 5}, {3: 4, 2: 4}, {6: 1, 3: 2, 2: 4}, {6: 2, 2: 4}, {8: 1, 3: 2, 2: 3}, {8: 1, 6: 1, 2: 3}, {7: 2, 2: 3}, {7: 1, 3: 3, 2: 2}, {7: 1, 6: 1, 3: 1, 2: 2}, {8: 2, 2: 2}, {3: 6, 2: 1}, {6: 1, 3: 4, 2: 1}, {6: 2, 3: 2, 2: 1}, {8: 1, 7: 1, 3: 1, 2: 1}, {6: 3, 2: 1}, {8: 1, 3: 4}, {8: 1, 6: 1, 3: 2}, {7: 2, 3: 2}, {8: 1, 6: 2}, {7: 2, 6: 1}]\n",
      "Length outcome 24\n"
     ]
    }
   ],
   "source": [
    "print(PossibleScores_S1(20))\n",
    "print(\"Length outcome\", len(PossibleScores_S1(20)))"
   ]
  },
  {
   "cell_type": "code",
   "execution_count": 13,
   "id": "a28bf3cb",
   "metadata": {},
   "outputs": [],
   "source": [
    "#potential values\n",
    "potential_values = [2,3,6,7,8]\n",
    "#Solution 2\n",
    "def PossibleScores_S2(score):\n",
    "    #devide our input score to every value, and use remainder and quotient\n",
    "    #initalizing list type table with a way to score 0 points\n",
    "    # for instance, our input score is 10\n",
    "    #divmod(10,8) = (1,2), divmod(2,2) = (1,1)\n",
    "    temp_values = potential_values.copy()\n",
    "    return_table = []\n",
    "    #interate potential values\n",
    "    for value in temp_values:\n",
    "        qoutient, remainder = divmod(score,value)\n",
    "    while temp_values:\n",
    "        a = temp_values.pop()\n",
    "        table.append(a)\n",
    "    #use while to loop over \n",
    "    #for \n",
    "    return (temp_values, table)"
   ]
  },
  {
   "cell_type": "code",
   "execution_count": 14,
   "id": "bcafde59",
   "metadata": {},
   "outputs": [
    {
     "name": "stdout",
     "output_type": "stream",
     "text": [
      "([], [8, 7, 6, 3, 2])\n",
      "Length outcome 2\n"
     ]
    }
   ],
   "source": [
    "print(PossibleScores_S2(10))\n",
    "print(\"Length outcome\", len(PossibleScores_S2(10)))"
   ]
  },
  {
   "cell_type": "code",
   "execution_count": 15,
   "id": "a8d61f2e",
   "metadata": {},
   "outputs": [
    {
     "name": "stdout",
     "output_type": "stream",
     "text": [
      "([], [8, 7, 6, 3, 2])\n",
      "Length outcome 2\n"
     ]
    }
   ],
   "source": [
    "print(PossibleScores_S2(20))\n",
    "print(\"Length outcome\", len(PossibleScores_S2(20)))"
   ]
  },
  {
   "cell_type": "code",
   "execution_count": 16,
   "id": "ac5bf0d7",
   "metadata": {},
   "outputs": [],
   "source": [
    "temp = potential_values.copy()"
   ]
  },
  {
   "cell_type": "code",
   "execution_count": 17,
   "id": "5c54581f",
   "metadata": {},
   "outputs": [
    {
     "data": {
      "text/plain": [
       "[2, 3, 6, 7, 8]"
      ]
     },
     "execution_count": 17,
     "metadata": {},
     "output_type": "execute_result"
    }
   ],
   "source": [
    "temp"
   ]
  },
  {
   "cell_type": "code",
   "execution_count": 18,
   "id": "084333f0",
   "metadata": {},
   "outputs": [
    {
     "data": {
      "text/plain": [
       "[2, 3, 6, 7, 8]"
      ]
     },
     "execution_count": 18,
     "metadata": {},
     "output_type": "execute_result"
    }
   ],
   "source": [
    "potential_values"
   ]
  },
  {
   "cell_type": "code",
   "execution_count": 19,
   "id": "92febaf5",
   "metadata": {},
   "outputs": [
    {
     "data": {
      "text/plain": [
       "8"
      ]
     },
     "execution_count": 19,
     "metadata": {},
     "output_type": "execute_result"
    }
   ],
   "source": [
    "potential_values.pop()"
   ]
  },
  {
   "cell_type": "code",
   "execution_count": 20,
   "id": "835486f8",
   "metadata": {},
   "outputs": [
    {
     "data": {
      "text/plain": [
       "[2, 3, 6, 7, 8]"
      ]
     },
     "execution_count": 20,
     "metadata": {},
     "output_type": "execute_result"
    }
   ],
   "source": [
    "temp"
   ]
  },
  {
   "cell_type": "code",
   "execution_count": 21,
   "id": "742fb35c",
   "metadata": {},
   "outputs": [
    {
     "data": {
      "text/plain": [
       "(5, 0)"
      ]
     },
     "execution_count": 21,
     "metadata": {},
     "output_type": "execute_result"
    }
   ],
   "source": [
    "divmod(10,2)"
   ]
  },
  {
   "cell_type": "code",
   "execution_count": null,
   "id": "eeb3436f",
   "metadata": {},
   "outputs": [],
   "source": []
  }
 ],
 "metadata": {
  "kernelspec": {
   "display_name": "Python 3.8 (tensorflow)",
   "language": "python",
   "name": "lighthouse"
  },
  "language_info": {
   "codemirror_mode": {
    "name": "ipython",
    "version": 3
   },
   "file_extension": ".py",
   "mimetype": "text/x-python",
   "name": "python",
   "nbconvert_exporter": "python",
   "pygments_lexer": "ipython3",
   "version": "3.9.13"
  }
 },
 "nbformat": 4,
 "nbformat_minor": 5
}
