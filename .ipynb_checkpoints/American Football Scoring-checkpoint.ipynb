{
 "cells": [
  {
   "cell_type": "markdown",
   "id": "5922c806",
   "metadata": {},
   "source": [
    "There are a few ways we can score in American Football:\n",
    "\n",
    "- 1 point - After scoring a touchdown, the team can choose to score a field goal\n",
    "- 2 points - (1) after scoring touchdown, a team can choose to score a conversion, when the team attempts to score a secondary touchdown or (2) an uncommon way to score, a safety is score when the opposing team causes the ball to become dead\n",
    "- 3 points - If no touchdown is scored on the possession, a team can attempt to make a field goal\n",
    "- 6 points - Awarded for a touchdown\n",
    "\n",
    "Given the above the potential point values for American Football are:\n",
    "- 2 points - safety\n",
    "- 3 points - only field goal\n",
    "- 6 points - only touchdown\n",
    "- 7 points - touchdown + field goal\n",
    "- 8 points - touchdown + conversion\n",
    "\n",
    "Given a score value, write a function that lists the possible ways the score could achieve\n",
    "\n",
    "For example, given the value 10, the potential values are:\n",
    "\n",
    "- 8 points (touchdown + conversion) + 2 points (safety)\n",
    "- 6 points (only touchdown) + 2x2 points (safety)\n",
    "- 7 points (touchdown + field goal) + 3 points (only field goal)\n",
    "- 5x2 points (safety)\n",
    "- 2x2 points (safety) + 2x3 points (only field goal)"
   ]
  },
  {
   "cell_type": "code",
   "execution_count": 1,
   "id": "d967da69",
   "metadata": {},
   "outputs": [],
   "source": [
    "#potential values\n",
    "potential_values = [2,3,6,7,8]"
   ]
  },
  {
   "cell_type": "code",
   "execution_count": 72,
   "id": "192fa85e",
   "metadata": {},
   "outputs": [],
   "source": [
    "#solution 1\n",
    "import copy\n",
    "def possibleScores_S1(score):\n",
    "    #initalizing table with a way to score 0 points\n",
    "    table = {0: [{}] }\n",
    "    for i in range (1, score + 1):\n",
    "            table[i] = []\n",
    "            for value in potential_values:\n",
    "                if i - value < 0 or i - value not in table:\n",
    "                    # if we can't fit it we skip the value\n",
    "                    continue\n",
    "                for score_arrange in table[i - value]:\n",
    "                    # for each score arrangement in the previous total, we're append it to this value\n",
    "                    new_score_arrange = copy.copy(score_arrange)\n",
    "                    new_score_arrange[value] = new_score_arrange.get(value, 0) + 1\n",
    "                   \n",
    "                    if new_score_arrange not in table[i]:\n",
    "                        #if we haven't already seen this arrangement, we're going to add it\n",
    "                        table[i].append(new_score_arrange)\n",
    "                        \n",
    "    return table"
   ]
  },
  {
   "cell_type": "code",
   "execution_count": 73,
   "id": "8cd0f3b6",
   "metadata": {},
   "outputs": [
    {
     "data": {
      "text/plain": [
       "[{2: 10},\n",
       " {3: 2, 2: 7},\n",
       " {6: 1, 2: 7},\n",
       " {8: 1, 2: 6},\n",
       " {7: 1, 3: 1, 2: 5},\n",
       " {3: 4, 2: 4},\n",
       " {6: 1, 3: 2, 2: 4},\n",
       " {6: 2, 2: 4},\n",
       " {8: 1, 3: 2, 2: 3},\n",
       " {8: 1, 6: 1, 2: 3},\n",
       " {7: 2, 2: 3},\n",
       " {7: 1, 3: 3, 2: 2},\n",
       " {7: 1, 6: 1, 3: 1, 2: 2},\n",
       " {8: 2, 2: 2},\n",
       " {3: 6, 2: 1},\n",
       " {6: 1, 3: 4, 2: 1},\n",
       " {6: 2, 3: 2, 2: 1},\n",
       " {8: 1, 7: 1, 3: 1, 2: 1},\n",
       " {6: 3, 2: 1},\n",
       " {8: 1, 3: 4},\n",
       " {8: 1, 6: 1, 3: 2},\n",
       " {7: 2, 3: 2},\n",
       " {8: 1, 6: 2},\n",
       " {7: 2, 6: 1}]"
      ]
     },
     "execution_count": 73,
     "metadata": {},
     "output_type": "execute_result"
    }
   ],
   "source": [
    "possibleFootballScores(20)"
   ]
  },
  {
   "cell_type": "code",
   "execution_count": 84,
   "id": "79ad338f",
   "metadata": {},
   "outputs": [],
   "source": [
    "table = {0: [{}] }"
   ]
  },
  {
   "cell_type": "code",
   "execution_count": 120,
   "id": "6d107597",
   "metadata": {},
   "outputs": [],
   "source": [
    "i = 4"
   ]
  },
  {
   "cell_type": "code",
   "execution_count": 121,
   "id": "459895ad",
   "metadata": {},
   "outputs": [],
   "source": [
    "table[i] = []"
   ]
  },
  {
   "cell_type": "code",
   "execution_count": 122,
   "id": "f7511fad",
   "metadata": {},
   "outputs": [],
   "source": [
    "value = 2"
   ]
  },
  {
   "cell_type": "code",
   "execution_count": 123,
   "id": "51fa6c49",
   "metadata": {},
   "outputs": [
    {
     "data": {
      "text/plain": [
       "[{2: 1}]"
      ]
     },
     "execution_count": 123,
     "metadata": {},
     "output_type": "execute_result"
    }
   ],
   "source": [
    "table[i - value]"
   ]
  },
  {
   "cell_type": "code",
   "execution_count": 124,
   "id": "f14e4f3f",
   "metadata": {},
   "outputs": [],
   "source": [
    "for score_arrange in table[i - value]:\n",
    "    # for each score arrangement in the previous total, we're append it to this value\n",
    "    new_score_arrange = copy.copy(score_arrange)\n",
    "    new_score_arrange[value] = new_score_arrange.get(value, 0) + 1\n",
    "    \n",
    "    if new_score_arrange not in table[i]:\n",
    "        #if we haven't already seen this arrangement, we're going to add it\n",
    "        table[i].append(new_score_arrange)"
   ]
  },
  {
   "cell_type": "code",
   "execution_count": 125,
   "id": "5f8acee0",
   "metadata": {},
   "outputs": [
    {
     "data": {
      "text/plain": [
       "{0: [{}], 2: [{2: 1}], 3: [{3: 1}], 4: [{2: 2}]}"
      ]
     },
     "execution_count": 125,
     "metadata": {},
     "output_type": "execute_result"
    }
   ],
   "source": [
    "table"
   ]
  },
  {
   "cell_type": "code",
   "execution_count": null,
   "id": "ee9daa18",
   "metadata": {},
   "outputs": [],
   "source": []
  }
 ],
 "metadata": {
  "kernelspec": {
   "display_name": "Python 3.8 (tensorflow)",
   "language": "python",
   "name": "lighthouse"
  },
  "language_info": {
   "codemirror_mode": {
    "name": "ipython",
    "version": 3
   },
   "file_extension": ".py",
   "mimetype": "text/x-python",
   "name": "python",
   "nbconvert_exporter": "python",
   "pygments_lexer": "ipython3",
   "version": "3.9.13"
  }
 },
 "nbformat": 4,
 "nbformat_minor": 5
}
