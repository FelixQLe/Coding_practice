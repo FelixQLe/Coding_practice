{
 "cells": [
  {
   "cell_type": "markdown",
   "id": "5cd41c84",
   "metadata": {},
   "source": [
    "There are a few ways we can score in American Football:\n",
    "\n",
    "- 1 point - After scoring a touchdown, the team can choose to score a field goal\n",
    "- 2 points - (1) after scoring touchdown, a team can choose to score a conversion, when the team attempts to score a secondary touchdown or (2) an uncommon way to score, a safety is score when the opposing team causes the ball to become dead\n",
    "- 3 points - If no touchdown is scored on the possession, a team can attempt to make a field goal\n",
    "- 6 points - Awarded for a touchdown\n",
    "\n",
    "Given the above the potential point values for American Football are:\n",
    "- 2 points - safety\n",
    "- 3 points - only field goal\n",
    "- 6 points - only touchdown\n",
    "- 7 points - touchdown + field goal\n",
    "- 8 points - touchdown + conversion\n",
    "\n",
    "Given a score value, write a function that lists the possible ways the score could achieve\n",
    "\n",
    "For example, given the value 10, the potential values are:\n",
    "\n",
    "- 8 points (touchdown + conversion) + 2 points (safety)\n",
    "- 6 points (only touchdown) + 2x2 points (safety)\n",
    "- 7 points (touchdown + field goal) + 3 points (only field goal)\n",
    "- 5x2 points (safety)\n",
    "- 2x2 points (safety) + 2x3 points (only field goal)"
   ]
  },
  {
   "cell_type": "code",
   "execution_count": 1,
   "id": "9210f223",
   "metadata": {},
   "outputs": [],
   "source": [
    "#potential values\n",
    "potential_values = [2,3,6,7,8]"
   ]
  },
  {
   "cell_type": "code",
   "execution_count": null,
   "id": "6a55eb2a",
   "metadata": {},
   "outputs": [],
   "source": [
    "def possibleFootballScores(score):\n",
    "    #initalizing table with a way to score 0 points\n",
    "    table = {0: [{}] }\n",
    "    for i in range (1, score + 1):\n",
    "            table[i] = []\n",
    "            for value in potential_values:\n",
    "                if i - value < 0 or i - value not in table:\n",
    "                    # if we can't fit it we skip the value\n",
    "                    continue\n",
    "                for score_arrange in table[i - value]:\n",
    "                    # for each score arrangement in the previous total, we're append it to this value\n",
    "                    new_score_arrange = copy.copy(score_arrange)\n",
    "                    new_score_arrange[value] = new_score_arrange.get(value, 0) + 1\n",
    "                   \n",
    "                    if new_score_arrange not in table[i]:\n",
    "                        #if we haven't already seen this arrangement, we're going to add it\n",
    "                        table[i].append(new_score_arrange)\n",
    "                        \n",
    "    return table[score]"
   ]
  }
 ],
 "metadata": {
  "kernelspec": {
   "display_name": "Python 3.8 (tensorflow)",
   "language": "python",
   "name": "lighthouse"
  },
  "language_info": {
   "codemirror_mode": {
    "name": "ipython",
    "version": 3
   },
   "file_extension": ".py",
   "mimetype": "text/x-python",
   "name": "python",
   "nbconvert_exporter": "python",
   "pygments_lexer": "ipython3",
   "version": "3.9.13"
  }
 },
 "nbformat": 4,
 "nbformat_minor": 5
}
