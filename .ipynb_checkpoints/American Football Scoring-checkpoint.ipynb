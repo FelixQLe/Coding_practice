{
 "cells": [
  {
   "cell_type": "markdown",
   "id": "0b0dc836",
   "metadata": {},
   "source": [
    "There are a few ways we can score in American Football:\n",
    "\n",
    "- 1 point - After scoring a touchdown, the team can choose to score a field goal\n",
    "- 2 points - (1) after scoring touchdown, a team can choose to score a conversion, when the team attempts to score a secondary touchdown or (2) an uncommon way to score, a safety is score when the opposing team causes the ball to become dead\n",
    "- 3 points - If no touchdown is scored on the possession, a team can attempt to make a field goal\n",
    "- 6 points - Awarded for a touchdown\n",
    "\n",
    "Given the above the potential point values for American Football are:\n",
    "- 2 points - safety\n",
    "- 3 points - only field goal\n",
    "- 6 points - only touchdown\n",
    "- 7 points - touchdown + field goal\n",
    "- 8 points - touchdown + conversion\n",
    "\n",
    "Given a score value, write a function that lists the possible ways the score could achieve\n",
    "\n",
    "For example, given the value 10, the potential values are:\n",
    "\n",
    "- 8 points (touchdown + conversion) + 2 points (safety)\n",
    "- 6 points (only touchdown) + 2x2 points (safety)\n",
    "- 7 points (touchdown + field goal) + 3 points (only field goal)\n",
    "- 5x2 points (safety)\n",
    "- 2x2 points (safety) + 2x3 points (only field goal)"
   ]
  },
  {
   "cell_type": "code",
   "execution_count": 1,
   "id": "61cbba6a",
   "metadata": {},
   "outputs": [],
   "source": [
    "#potential values\n",
    "potential_values = [2,3,6,7,8]"
   ]
  },
  {
   "cell_type": "code",
   "execution_count": 69,
   "id": "be04ae0b",
   "metadata": {},
   "outputs": [],
   "source": [
    "#solution 1\n",
    "import copy\n",
    "def PossibleScores_S1(score):\n",
    "    # iterate from score 0 to our input score\n",
    "    # for instance, our input score 5 is derive from score 2 and score 3\n",
    "    # score 5 = {3:1, 2:1}, which derive from score 2 = {2:1} append score 3 = {3:1}\n",
    "    #our input score 4 = {2:2}, which derive from score 2 = {2:1}, value 1 + 1 = {2:2}\n",
    "    #and so on\n",
    "    #initalizing dict type table with score 0 points\n",
    "    table = {0: [{}] }\n",
    "    for i in range (1, score + 1):\n",
    "            table[i] = []\n",
    "            for value in potential_values:\n",
    "                if i - value < 0 or i - value not in table:\n",
    "                    # if we can't fit it we skip the value\n",
    "                    continue\n",
    "                for score_arrange in table[i - value]:\n",
    "                    #print(score_arrange)\n",
    "                    # for each score arrangement in the previous total, we're append it to this value\n",
    "                    new_score_arrange = copy.copy(score_arrange)\n",
    "                    new_score_arrange[value] = new_score_arrange.get(value, 0) + 1\n",
    "                   \n",
    "                    if new_score_arrange not in table[i]:\n",
    "                        #if we haven't already seen this arrangement, we're going to add it\n",
    "                        table[i].append(new_score_arrange)\n",
    "    #print(\"Abc\", table)\n",
    "    return table[score]"
   ]
  },
  {
   "cell_type": "code",
   "execution_count": 70,
   "id": "d060a8fc",
   "metadata": {},
   "outputs": [
    {
     "name": "stdout",
     "output_type": "stream",
     "text": [
      "[{2: 5}, {3: 2, 2: 2}, {6: 1, 2: 2}, {8: 1, 2: 1}, {7: 1, 3: 1}]\n",
      "Length outcome 5\n"
     ]
    }
   ],
   "source": [
    "print(PossibleScores_S1(10))\n",
    "print(\"Length outcome\", len(PossibleScores_S1(10)))"
   ]
  },
  {
   "cell_type": "code",
   "execution_count": 71,
   "id": "d3d6f21f",
   "metadata": {},
   "outputs": [
    {
     "name": "stdout",
     "output_type": "stream",
     "text": [
      "[{2: 10}, {3: 2, 2: 7}, {6: 1, 2: 7}, {8: 1, 2: 6}, {7: 1, 3: 1, 2: 5}, {3: 4, 2: 4}, {6: 1, 3: 2, 2: 4}, {6: 2, 2: 4}, {8: 1, 3: 2, 2: 3}, {8: 1, 6: 1, 2: 3}, {7: 2, 2: 3}, {7: 1, 3: 3, 2: 2}, {7: 1, 6: 1, 3: 1, 2: 2}, {8: 2, 2: 2}, {3: 6, 2: 1}, {6: 1, 3: 4, 2: 1}, {6: 2, 3: 2, 2: 1}, {8: 1, 7: 1, 3: 1, 2: 1}, {6: 3, 2: 1}, {8: 1, 3: 4}, {8: 1, 6: 1, 3: 2}, {7: 2, 3: 2}, {8: 1, 6: 2}, {7: 2, 6: 1}]\n",
      "Length outcome 24\n"
     ]
    }
   ],
   "source": [
    "print(PossibleScores_S1(20))\n",
    "print(\"Length outcome\", len(PossibleScores_S1(20)))"
   ]
  },
  {
   "cell_type": "code",
   "execution_count": 77,
   "id": "dcf42747",
   "metadata": {},
   "outputs": [],
   "source": [
    "#potential values\n",
    "potential_values = [2,3,6,7,8]\n",
    "#Solution 2\n",
    "def PossibleScores_S2(score):\n",
    "    #devide our input score to every value, and use remainder and quotient\n",
    "    #initalizing list type table with a way to score 0 points\n",
    "    table = []\n",
    "    #interate potential values\n",
    "    for \n",
    "    return table"
   ]
  },
  {
   "cell_type": "code",
   "execution_count": 78,
   "id": "94f60045",
   "metadata": {},
   "outputs": [
    {
     "name": "stdout",
     "output_type": "stream",
     "text": [
      "1\n"
     ]
    }
   ],
   "source": [
    "divmod(10,8)\n",
    "a, b = divmod(2,2)\n",
    "print(a)"
   ]
  },
  {
   "cell_type": "code",
   "execution_count": 79,
   "id": "2fbdf0e8",
   "metadata": {},
   "outputs": [
    {
     "name": "stdout",
     "output_type": "stream",
     "text": [
      "[]\n",
      "Length outcome 0\n"
     ]
    }
   ],
   "source": [
    "print(PossibleScores_S2(10))\n",
    "print(\"Length outcome\", len(PossibleScores_S2(10)))"
   ]
  },
  {
   "cell_type": "code",
   "execution_count": 80,
   "id": "1d9fc31d",
   "metadata": {},
   "outputs": [
    {
     "name": "stdout",
     "output_type": "stream",
     "text": [
      "[]\n",
      "Length outcome 0\n"
     ]
    }
   ],
   "source": [
    "print(PossibleScores_S2(20))\n",
    "print(\"Length outcome\", len(PossibleScores_S2(20)))"
   ]
  },
  {
   "cell_type": "code",
   "execution_count": null,
   "id": "835608c1",
   "metadata": {},
   "outputs": [],
   "source": []
  }
 ],
 "metadata": {
  "kernelspec": {
   "display_name": "Python 3.8 (tensorflow)",
   "language": "python",
   "name": "lighthouse"
  },
  "language_info": {
   "codemirror_mode": {
    "name": "ipython",
    "version": 3
   },
   "file_extension": ".py",
   "mimetype": "text/x-python",
   "name": "python",
   "nbconvert_exporter": "python",
   "pygments_lexer": "ipython3",
   "version": "3.9.13"
  }
 },
 "nbformat": 4,
 "nbformat_minor": 5
}
